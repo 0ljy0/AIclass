{
 "cells": [
  {
   "cell_type": "markdown",
   "metadata": {},
   "source": [
    "# Chapter 4. 머신러닝에 필요한 수학 - 배포용"
   ]
  },
  {
   "cell_type": "markdown",
   "metadata": {},
   "source": [
    "## 4.1 벡터"
   ]
  },
  {
   "cell_type": "code",
   "execution_count": 2,
   "metadata": {},
   "outputs": [],
   "source": [
    "# 리스트 4-1-(1)\n",
    "import numpy as np\n"
   ]
  },
  {
   "cell_type": "markdown",
   "metadata": {},
   "source": [
    "**실습문제**: np.array를 사용하여 벡터 $a = \\begin{bmatrix} 2 & 1 \\end{bmatrix}$를 정의하시오."
   ]
  },
  {
   "cell_type": "code",
   "execution_count": 4,
   "metadata": {
    "scrolled": true
   },
   "outputs": [
    {
     "name": "stdout",
     "output_type": "stream",
     "text": [
      "[2 1]\n"
     ]
    }
   ],
   "source": [
    "# 리스트 4-1-(2)\n",
    "a = np.array([2,1])    # np.array를 사용하여 벡터 a = [2,1]를 정의하시오.\n",
    "print(a)\n"
   ]
  },
  {
   "cell_type": "code",
   "execution_count": 5,
   "metadata": {},
   "outputs": [
    {
     "data": {
      "text/plain": [
       "numpy.ndarray"
      ]
     },
     "execution_count": 5,
     "metadata": {},
     "output_type": "execute_result"
    }
   ],
   "source": [
    "# 리스트 4-1-(3)\n",
    "type(a)\n"
   ]
  },
  {
   "cell_type": "markdown",
   "metadata": {},
   "source": [
    "**실습문제**: np.array를 이용하여 행렬 $c = \\begin{bmatrix} 1 & 2 \\\\ 3 & 4 \\end{bmatrix}$를 정의하시오."
   ]
  },
  {
   "cell_type": "code",
   "execution_count": 6,
   "metadata": {
    "scrolled": true
   },
   "outputs": [
    {
     "name": "stdout",
     "output_type": "stream",
     "text": [
      "[[1 2]\n",
      " [3 4]]\n"
     ]
    }
   ],
   "source": [
    "# 리스트 4-1-(4)\n",
    "c = np.array([[1,2],[3,4]])    # np.array를 이용하여 행렬 $c = \\begin{bmatrix} 1 & 2 \\\\ 3 & 4 \\end{bmatrix}$를 정의하시오.\n",
    "print(c)\n"
   ]
  },
  {
   "cell_type": "markdown",
   "metadata": {},
   "source": [
    "**실습문제**: np.array를 사용하여 열벡터 $d = \\begin{bmatrix} 1 \\\\ 2 \\end{bmatrix}$를 정의하시오."
   ]
  },
  {
   "cell_type": "code",
   "execution_count": 7,
   "metadata": {
    "scrolled": true
   },
   "outputs": [
    {
     "name": "stdout",
     "output_type": "stream",
     "text": [
      "[[1]\n",
      " [2]]\n"
     ]
    }
   ],
   "source": [
    "# 리스트 4-1-(5)\n",
    "d = np.array([[1],[2]])    # np.array를 사용하여 열벡터 $d = \\begin{bmatrix} 1 \\\\ 2 \\end{bmatrix}$를 정의하시오.\n",
    "print(d)\n"
   ]
  },
  {
   "cell_type": "markdown",
   "metadata": {},
   "source": [
    "**실습문제**: 위에서 정의한 열벡터 $d$에 대하여 transpose(전치)를 출력하시오."
   ]
  },
  {
   "cell_type": "code",
   "execution_count": 8,
   "metadata": {
    "scrolled": true
   },
   "outputs": [
    {
     "name": "stdout",
     "output_type": "stream",
     "text": [
      "[[1 2]]\n"
     ]
    }
   ],
   "source": [
    "print(d.T)"
   ]
  },
  {
   "cell_type": "markdown",
   "metadata": {},
   "source": [
    "**실습문제**: 아래의 두 벡터 $a$와 $b$에 대해 덧셈을 출력하시오."
   ]
  },
  {
   "cell_type": "code",
   "execution_count": 9,
   "metadata": {
    "scrolled": true
   },
   "outputs": [
    {
     "name": "stdout",
     "output_type": "stream",
     "text": [
      "[3 4]\n"
     ]
    }
   ],
   "source": [
    "# 리스트 4-1-(7)\n",
    "a = np.array([2, 1])\n",
    "b = np.array([1, 3])\n",
    "print(a+b)      # 여기에 None 대신에 적절한 코드를 입력하시오.\n"
   ]
  },
  {
   "cell_type": "markdown",
   "metadata": {},
   "source": [
    "**실습문제**: 아래의 두 벡터 $a$와 $b$에 대해 뺄셈을 출력하시오."
   ]
  },
  {
   "cell_type": "code",
   "execution_count": 10,
   "metadata": {
    "scrolled": true
   },
   "outputs": [
    {
     "name": "stdout",
     "output_type": "stream",
     "text": [
      "[ 1 -2]\n"
     ]
    }
   ],
   "source": [
    "# 리스트 4-1-(8)\n",
    "a = np.array([2, 1])\n",
    "b = np.array([1, 3])\n",
    "print(a-b)      # 여기에 None 대신에 적절한 코드를 입력하시오.\n"
   ]
  },
  {
   "cell_type": "markdown",
   "metadata": {},
   "source": [
    "**실습문제**: 위의 벡터 $a$에 대해 상수 2를 곱한 값을 출력하시오."
   ]
  },
  {
   "cell_type": "code",
   "execution_count": 11,
   "metadata": {
    "scrolled": false
   },
   "outputs": [
    {
     "name": "stdout",
     "output_type": "stream",
     "text": [
      "[4 2]\n"
     ]
    }
   ],
   "source": [
    "print(a*2)"
   ]
  },
  {
   "cell_type": "markdown",
   "metadata": {},
   "source": [
    "**실습문제**: 아래의 두 벡터 $b$와 $c$에 대해 dot product(내적) 출력하시오."
   ]
  },
  {
   "cell_type": "code",
   "execution_count": 12,
   "metadata": {},
   "outputs": [
    {
     "name": "stdout",
     "output_type": "stream",
     "text": [
      "10\n"
     ]
    }
   ],
   "source": [
    "# 리스트 4-1-(10)\n",
    "b = np.array([1, 3])\n",
    "c = np.array([4, 2])\n",
    "print(np.dot(b,c))      # 여기에 None 대신에 적절한 코드를 입력하시오.\n"
   ]
  },
  {
   "cell_type": "markdown",
   "metadata": {},
   "source": [
    "**벡터의 크기 (Vecter Norm)**"
   ]
  },
  {
   "cell_type": "markdown",
   "metadata": {},
   "source": [
    "<img src=\"식4-11.JPG\" style=\"width:600px\"> "
   ]
  },
  {
   "cell_type": "code",
   "execution_count": 13,
   "metadata": {
    "scrolled": true
   },
   "outputs": [
    {
     "name": "stdout",
     "output_type": "stream",
     "text": [
      "3.1622776601683795\n"
     ]
    }
   ],
   "source": [
    "# 리스트 4-1-(11)\n",
    "a = np.array([1, 3])\n",
    "print(np.linalg.norm(a))\n"
   ]
  },
  {
   "cell_type": "markdown",
   "metadata": {},
   "source": [
    "## 4.2 합의 기호"
   ]
  },
  {
   "cell_type": "markdown",
   "metadata": {},
   "source": [
    "### 4.2.2 합을 내적으로 계산하기"
   ]
  },
  {
   "cell_type": "markdown",
   "metadata": {},
   "source": [
    "**실습문제**: 1부터 1000까지의 합은 아래 식과 같이 벡터의 내적으로도 구할 수 있습니다. 아래 코드의 빈칸을 완성하시오.\n",
    "![대체 텍스트](식4-19.JPG)"
   ]
  },
  {
   "cell_type": "code",
   "execution_count": 20,
   "metadata": {},
   "outputs": [
    {
     "name": "stdout",
     "output_type": "stream",
     "text": [
      "500500.0\n"
     ]
    }
   ],
   "source": [
    "# 리스트 4-2-(1)\n",
    "import numpy as np\n",
    "a = np.ones(1000)           # [1 1 1 ... 1]         # 여기에 None 대신에 적절한 코드를 입력하시오.\n",
    "\n",
    "b = np.arange(1,1001)           # [1 2 3 ... 1000]      # 여기에 None 대신에 적절한 코드를 입력하시오.\n",
    "\n",
    "print(np.dot(a,b))       # 여기에 None 대신에 적절한 코드를 입력하시오.\n"
   ]
  },
  {
   "cell_type": "markdown",
   "metadata": {},
   "source": [
    "## 4.4 미분"
   ]
  },
  {
   "cell_type": "markdown",
   "metadata": {},
   "source": [
    "### 4.4.4 중첩된 함수의 미분: 연쇄 법칙(chain rule)"
   ]
  },
  {
   "cell_type": "markdown",
   "metadata": {},
   "source": [
    "<img src=\"그림4-10.JPG\" style=\"width:600px\">  "
   ]
  },
  {
   "cell_type": "markdown",
   "metadata": {},
   "source": [
    "## 4.5 편미분"
   ]
  },
  {
   "cell_type": "markdown",
   "metadata": {},
   "source": [
    "**경사(기울기벡터, gradient)**\n",
    "<img src=\"식4-52.JPG\" style=\"width:600px\">  "
   ]
  },
  {
   "cell_type": "markdown",
   "metadata": {},
   "source": [
    "### 4.5.3 경사를 그림으로 나타내기"
   ]
  },
  {
   "cell_type": "markdown",
   "metadata": {},
   "source": [
    "<img src=\"리스트4-2-(2)설명-1.JPG\" style=\"width:600px\">  \n",
    "<img src=\"리스트4-2-(2)설명-2.JPG\" style=\"width:600px\">  \n",
    "<img src=\"리스트4-2-(2)설명-3.JPG\" style=\"width:600px\">  "
   ]
  },
  {
   "cell_type": "markdown",
   "metadata": {},
   "source": [
    "**실습문제**: 아래는 그림 4-13을 그리기 위한 파이썬 스크립트이다. 빈칸을 채워서 코드를 완성하시오."
   ]
  },
  {
   "cell_type": "code",
   "execution_count": 22,
   "metadata": {
    "scrolled": true
   },
   "outputs": [
    {
     "data": {
      "image/png": "[encoded data removed]",
      "text/plain": [
       "<Figure size 648x288 with 2 Axes>"
      ]
     },
     "metadata": {
      "needs_background": "light"
     },
     "output_type": "display_data"
    }
   ],
   "source": [
    "# 리스트 4-2-(2)\n",
    "import numpy as np\n",
    "import matplotlib.pyplot as plt\n",
    "\n",
    "def f(w0, w1): # (A) f의 정의\n",
    "    return w0**2 + 2 * w0 * w1 + 3\n",
    "def df_dw0(w0, w1): # (B) f의 w0에 관한 편미분\n",
    "    return 2*w0+2*w1      # 여기에 None 대신에 적절한 코드를 입력하시오.\n",
    "def df_dw1(w0, w1): # (C) f의 w1에 관한 편미분\n",
    "    return 2*w0      # 여기에 None 대신에 적절한 코드를 입력하시오.\n",
    "\n",
    "w_range = 2\n",
    "dw = 0.25\n",
    "w0 = np.arange(-w_range, w_range + dw, dw)\n",
    "w1 = np.arange(-w_range, w_range + dw, dw)\n",
    "wn = w0.shape[0]\n",
    "ww0, ww1 = np.meshgrid(w0, w1) # (D)\n",
    "ff = np.zeros((len(w0), len(w1)))          # ff는 함수 f(w0,w1) 값을 저장하기 위한 2차원 배열\n",
    "dff_dw0 = np.zeros((len(w0), len(w1)))     # dff_dw0는 함수 df_dw0(w0,w1) 값을 저장하기 위한 2차원 배열\n",
    "dff_dw1 = np.zeros((len(w0), len(w1)))     # dff_dw1는 함수 df_dw1(w0,w1) 값을 저장하기 위한 2차원 배열\n",
    "#for i0 in range(wn): # (E)\n",
    "#    for i1 in range(wn):\n",
    "#        ff[i1, i0] = f(w0[i0], w1[i1])\n",
    "#        dff_dw0[i1, i0] = df_dw0(w0[i0], w1[i1])\n",
    "#        dff_dw1[i1, i0] = df_dw1(w0[i0], w1[i1])\n",
    "for i1 in range(wn): # (E)\n",
    "    ff[i1, :] = f(w0[:], w1[i1])               # 여기에 None 대신에 적절한 코드를 입력하여 ff[,] 배열을 구하시오.\n",
    "    dff_dw0[i1, :] = df_dw0(w0[:],w1[i1])          # 여기에 None 대신에 적절한 코드를 입력하여 dff_dw0[,] 배열을 구하시오.\n",
    "    dff_dw1[i1, :] = df_dw1(w0[:],w1[i1])          # 여기에 None 대신에 적절한 코드를 입력하여 dff_dw1[,] 배열을 구하시오.\n",
    "        \n",
    "plt.figure(figsize=(9, 4))\n",
    "plt.subplots_adjust(wspace=0.3)\n",
    "plt.subplot(1, 2, 1)\n",
    "cont = plt.contour(ww0,ww1,ff, 10, colors='black')                        # (F) 함수 f의 등고선 표시, 등고선 높이는 10단계로 하고 등고선 색은 검정색으로 표시. \n",
    "cont.clabel(fmt='%2.0f', fontsize=8)\n",
    "plt.xticks(range(-w_range, w_range + 1, 1))\n",
    "plt.yticks(range(-w_range, w_range + 1, 1))\n",
    "plt.xlim(-w_range - 0.5, w_range + .5)\n",
    "plt.ylim(-w_range - .5, w_range + .5)\n",
    "plt.xlabel('$w_0$', fontsize=14)\n",
    "plt.ylabel('$w_1$', fontsize=14)\n",
    "\n",
    "plt.subplot(1, 2, 2)\n",
    "plt.quiver(ww0, ww1, dff_dw0, dff_dw1) # (G) f의 경사 벡터 표시\n",
    "plt.xlabel('$w_0$', fontsize=14)\n",
    "plt.ylabel('$w_1$', fontsize=14)\n",
    "plt.xticks(range(-w_range, w_range + 1, 1))\n",
    "plt.yticks(range(-w_range, w_range + 1, 1))\n",
    "plt.xlim(-w_range - 0.5, w_range + .5)\n",
    "plt.ylim(-w_range - .5, w_range + .5)\n",
    "plt.show()"
   ]
  },
  {
   "cell_type": "markdown",
   "metadata": {},
   "source": [
    "### 4.5.4 다변수의 중첩 함수의 미분"
   ]
  },
  {
   "cell_type": "markdown",
   "metadata": {},
   "source": [
    "<img src=\"그림4-14.JPG\" style=\"width:600px\">  "
   ]
  },
  {
   "cell_type": "markdown",
   "metadata": {},
   "source": [
    "## 4.6 행렬"
   ]
  },
  {
   "cell_type": "markdown",
   "metadata": {},
   "source": [
    "### 4.6.2 행렬의 덧셈과 뺄셈"
   ]
  },
  {
   "cell_type": "code",
   "execution_count": null,
   "metadata": {},
   "outputs": [],
   "source": [
    "# 리스트 4-3-(1)\n",
    "import numpy as np\n"
   ]
  },
  {
   "cell_type": "markdown",
   "metadata": {},
   "source": [
    "**실습문제**: np.array를 이용하여 행렬 $A = \\begin{bmatrix} 1 & 2 & 3 \\\\ 4 & 5 & 6 \\end{bmatrix}$와 $B = \\begin{bmatrix} 7 & 8 & 9 \\\\ 10 & 11 & 12 \\end{bmatrix}$를 정의하시오."
   ]
  },
  {
   "cell_type": "code",
   "execution_count": 24,
   "metadata": {
    "scrolled": true
   },
   "outputs": [
    {
     "name": "stdout",
     "output_type": "stream",
     "text": [
      "[[1 2 3]\n",
      " [4 5 6]]\n",
      "[[ 7  8  9]\n",
      " [10 11 12]]\n"
     ]
    }
   ],
   "source": [
    "A = np.array([[1,2,3],[4,5,6]])\n",
    "B = np.array([[7,8,9],[10,11,12]])\n",
    "print(A)\n",
    "print(B)"
   ]
  },
  {
   "cell_type": "markdown",
   "metadata": {},
   "source": [
    "**실습문제**: 위에서 정의한 행렬 $A$와 $B$에 대해 덧셈, 뺄셈, 원소별 곱셈, 원소별 나눗셈, 그리고 $A$의 2배값을 구하시오."
   ]
  },
  {
   "cell_type": "code",
   "execution_count": 28,
   "metadata": {
    "scrolled": false
   },
   "outputs": [
    {
     "name": "stdout",
     "output_type": "stream",
     "text": [
      "[[-6 -6 -6]\n",
      " [-6 -6 -6]]\n",
      "[[ 8 10 12]\n",
      " [14 16 18]]\n",
      "[40 55 72]\n",
      "[0.4        0.45454545 0.5       ]\n",
      "[[ 2  4  6]\n",
      " [ 8 10 12]]\n"
     ]
    }
   ],
   "source": [
    "print(A-B)\n",
    "print(A+B)\n",
    "for i in list(range(2)):\n",
    "    C = A[i,:]*B[i,:]\n",
    "    D = A[i,:]/B[i,:]\n",
    "print(C)\n",
    "print(D)\n",
    "print(A*2)\n"
   ]
  },
  {
   "cell_type": "markdown",
   "metadata": {},
   "source": [
    "### 4.6.4 행렬의 곱"
   ]
  },
  {
   "cell_type": "markdown",
   "metadata": {},
   "source": [
    "![대체 텍스트](그림4-19.JPG)"
   ]
  },
  {
   "cell_type": "markdown",
   "metadata": {},
   "source": [
    "**실습문제**: np.array를 이용하여 1x3 행렬(또는 행벡터) $A = \\begin{bmatrix} 1 & 2 & 3 \\end{bmatrix}$와 $B = \\begin{bmatrix}  4 & 5 & 6  \\end{bmatrix}$를 정의하시오. \n",
    "- B의 전치(transpose)를 구한 후 행렬곱 AB를 구하시오.\n",
    "- 행벡터 $A$와 $B$의 내적(dot product)을 구한 후 위에서 구한 행렬곱과 비교하시오."
   ]
  },
  {
   "cell_type": "code",
   "execution_count": 35,
   "metadata": {},
   "outputs": [
    {
     "name": "stdout",
     "output_type": "stream",
     "text": [
      "[1 2 3]\n",
      "[4 5 6]\n",
      "[ 4 10 18]\n",
      "32\n"
     ]
    }
   ],
   "source": [
    "import numpy as np\n",
    "A = np.array([1,2,3])\n",
    "B = np.array([4,5,6])\n",
    "print(A)\n",
    "print(B)\n",
    "bT = B.reshape(3,1)\n",
    "print(A*B)\n"
   ]
  },
  {
   "cell_type": "code",
   "execution_count": 36,
   "metadata": {},
   "outputs": [
    {
     "name": "stdout",
     "output_type": "stream",
     "text": [
      "32\n"
     ]
    }
   ],
   "source": [
    "print(np.dot(A,B))"
   ]
  },
  {
   "cell_type": "markdown",
   "metadata": {},
   "source": [
    "![대체 텍스트](그림4-20.JPG)"
   ]
  },
  {
   "cell_type": "markdown",
   "metadata": {},
   "source": [
    "**실습문제**: 위의 그림 4-20을 구현하는 파이썬/넘파이 스크립트를 작성하시오."
   ]
  },
  {
   "cell_type": "code",
   "execution_count": 37,
   "metadata": {
    "scrolled": false
   },
   "outputs": [
    {
     "name": "stdout",
     "output_type": "stream",
     "text": [
      "[[ 32 -32]\n",
      " [-32  32]]\n"
     ]
    }
   ],
   "source": [
    "A = np.array([[1,2,3],[-1,-2,-3]])\n",
    "B = np.array([[4,-4],[5,-5],[6,-6]])\n",
    "print(np.dot(A,B))"
   ]
  },
  {
   "cell_type": "markdown",
   "metadata": {},
   "source": [
    "### 4.6.5 단위 행렬 (identity matrix)"
   ]
  },
  {
   "cell_type": "code",
   "execution_count": null,
   "metadata": {
    "scrolled": false
   },
   "outputs": [],
   "source": [
    "# 리스트 4-3-(10)\n",
    "print(np.identity(3))    # 또는 print(np.eye(3))\n"
   ]
  },
  {
   "cell_type": "code",
   "execution_count": null,
   "metadata": {},
   "outputs": [],
   "source": [
    "# 리스트 4-3-(11)\n",
    "A = np.array([[1, 2, 3], [4, 5, 6], [7, 8, 9]])\n",
    "I = np.identity(3)\n",
    "print(A.dot(I))\n"
   ]
  },
  {
   "cell_type": "markdown",
   "metadata": {},
   "source": [
    "### 4.6.6 역행렬"
   ]
  },
  {
   "cell_type": "code",
   "execution_count": null,
   "metadata": {
    "scrolled": false
   },
   "outputs": [],
   "source": [
    "# 리스트 4-3-(12)\n",
    "A=np.array([[1, 2],[3, 4]])\n",
    "invA = np.linalg.inv(A)\n",
    "print(invA)\n"
   ]
  },
  {
   "cell_type": "markdown",
   "metadata": {},
   "source": [
    "### 4.6.7 전치 (transpose)"
   ]
  },
  {
   "cell_type": "markdown",
   "metadata": {},
   "source": [
    "![대체 텍스트](그림4-23.JPG)"
   ]
  },
  {
   "cell_type": "markdown",
   "metadata": {},
   "source": [
    "**실습문제**: 위의 그림 4-23을 구현하는 파이썬/넘파이 스크립트를 작성하시오."
   ]
  },
  {
   "cell_type": "code",
   "execution_count": 40,
   "metadata": {
    "scrolled": false
   },
   "outputs": [
    {
     "name": "stdout",
     "output_type": "stream",
     "text": [
      "[[1 2 3]\n",
      " [4 5 6]]\n",
      "[[1 4]\n",
      " [2 5]\n",
      " [3 6]]\n"
     ]
    }
   ],
   "source": [
    "A = np.array([[1,2,3],[4,5,6]])\n",
    "print(A)\n",
    "print(A.T)\n"
   ]
  },
  {
   "cell_type": "markdown",
   "metadata": {},
   "source": [
    "## 4.7 지수함수와 로그함수"
   ]
  },
  {
   "cell_type": "markdown",
   "metadata": {},
   "source": [
    "### 4.7.1 지수"
   ]
  },
  {
   "cell_type": "markdown",
   "metadata": {},
   "source": [
    "**실습문제**: 아래의 3개의 지수함수를 그래프로 그리기 위한 파이썬/넘파이 스크립트 코드를 작성하려고 한다. 아래의 스크립트에서 None 부분을 적절한 코드로 대체하여 스크립트를 완성하시오.\n",
    "- $y1 = 2^x$\n",
    "- $y2 = 3^x$\n",
    "- $y3 = 0.5^x$"
   ]
  },
  {
   "cell_type": "code",
   "execution_count": 44,
   "metadata": {},
   "outputs": [
    {
     "name": "stdout",
     "output_type": "stream",
     "text": [
      "[-2]\n"
     ]
    }
   ],
   "source": [
    "print(np.arange(-2,2,4))"
   ]
  },
  {
   "cell_type": "code",
   "execution_count": 46,
   "metadata": {
    "scrolled": false
   },
   "outputs": [
    {
     "name": "stdout",
     "output_type": "stream",
     "text": [
      "[-4.         -3.11111111 -2.22222222 -1.33333333 -0.44444444  0.44444444\n",
      "  1.33333333  2.22222222  3.11111111  4.        ]\n"
     ]
    },
    {
     "data": {
      "image/png": "[encoded data removed]",
      "text/plain": [
       "<Figure size 360x360 with 1 Axes>"
      ]
     },
     "metadata": {
      "needs_background": "light"
     },
     "output_type": "display_data"
    }
   ],
   "source": [
    "# 리스트 4-4-(1)\n",
    "import numpy as np\n",
    "import matplotlib.pyplot as plt\n",
    "%matplotlib inline\n",
    "x = np.linspace(-4,4,10) # -4에서 4까지를 100개 구간으로 분할하여 1차원 배열 x에 대입함. \n",
    "print(x)\n",
    "y1 = 2**x       # None 대신에 알맞은 코드로 채우시오\n",
    "y2 = 3**x       # None 대신에 알맞은 코드로 채우시오\n",
    "y3 = 0.5**x       # None 대신에 알맞은 코드로 채우시오\n",
    "\n",
    "plt.figure(figsize=(5, 5))\n",
    "plt.plot(x,y1, 'black', linewidth=3, label='$y=2^x$')             # None 대신에 알맞은 코드로 채우시오\n",
    "plt.plot(x,y2, 'cornflowerblue', linewidth=3, label='$y=3^x$')    # None 대신에 알맞은 코드로 채우시오\n",
    "plt.plot(x,y3, 'gray', linewidth=3, label='$y=0.5^x$')            # None 대신에 알맞은 코드로 채우시오\n",
    "plt.ylim(-2, 6)\n",
    "plt.xlim(-4, 4)\n",
    "plt.grid(True)\n",
    "plt.legend(loc='lower right')\n",
    "plt.show()\n"
   ]
  },
  {
   "cell_type": "markdown",
   "metadata": {},
   "source": [
    "### 4.7.2 로그"
   ]
  },
  {
   "cell_type": "code",
   "execution_count": 47,
   "metadata": {
    "scrolled": true
   },
   "outputs": [
    {
     "data": {
      "image/png": "[encoded data removed]",
      "text/plain": [
       "<Figure size 360x360 with 1 Axes>"
      ]
     },
     "metadata": {
      "needs_background": "light"
     },
     "output_type": "display_data"
    }
   ],
   "source": [
    "# 리스트 4-4-(2)\n",
    "x = np.linspace(-8, 8, 100)\n",
    "y = 2**x\n",
    "\n",
    "x2 = np.linspace (0.001, 8, 100) # np.log(0)는 에러가 되므로 0은 포함하지 않음\n",
    "y2 = np.log (x2) / np.log (2) # 밑을 2로 한 log를 공식(7)로 계산\n",
    "plt.figure(figsize=(5, 5))\n",
    "plt.plot(x, y, 'black', linewidth=3)\n",
    "plt.plot(x2, y2, 'cornflowerblue', linewidth=3)\n",
    "plt.plot(x, x, 'black', linestyle='--', linewidth=1)\n",
    "plt.ylim(-8, 8)\n",
    "plt.xlim(-8, 8)\n",
    "plt.grid(True)\n",
    "plt.show()\n"
   ]
  },
  {
   "cell_type": "markdown",
   "metadata": {},
   "source": [
    "**로그 함수의 최소값**"
   ]
  },
  {
   "cell_type": "markdown",
   "metadata": {},
   "source": [
    "<img src=\"그림4-30.JPG\" style=\"width:600px\">  "
   ]
  },
  {
   "cell_type": "markdown",
   "metadata": {},
   "source": [
    "**실습문제**: 위의 그림 4-30과 같이 출력이 되도록 아래 스크립트에서 None 대신에 적절한 코드로 채우시오."
   ]
  },
  {
   "cell_type": "code",
   "execution_count": 49,
   "metadata": {
    "scrolled": true
   },
   "outputs": [
    {
     "data": {
      "image/png": "[encoded data removed]",
      "text/plain": [
       "<Figure size 288x288 with 1 Axes>"
      ]
     },
     "metadata": {
      "needs_background": "light"
     },
     "output_type": "display_data"
    }
   ],
   "source": [
    "# 리스트 4-4-(3)\n",
    "x = np.linspace(-4,4,100)          # None 대신에 알맞은 코드로 채우시오\n",
    "y = (x-1)**2+2          # None 대신에 알맞은 코드로 채우시오\n",
    "logy = np.log((x-1)**2+2)       # None 대신에 알맞은 코드로 채우시오\n",
    "\n",
    "\n",
    "plt.figure(figsize=(4, 4))\n",
    "plt.plot(x,y, 'black', linewidth=3)                # None 대신에 알맞은 코드로 채우시오\n",
    "plt.plot(x,logy, 'cornflowerblue', linewidth=3)       # None 대신에 알맞은 코드로 채우시오\n",
    "plt.yticks(range(-4,9,1))\n",
    "plt.xticks(range(-4,5,1))\n",
    "plt.ylim(-4, 8)\n",
    "plt.xlim(-4, 4)\n",
    "plt.grid(True)\n",
    "plt.show()\n"
   ]
  },
  {
   "cell_type": "markdown",
   "metadata": {},
   "source": [
    "### 4.7.3 지수함수의 미분"
   ]
  },
  {
   "cell_type": "code",
   "execution_count": 51,
   "metadata": {
    "scrolled": true
   },
   "outputs": [
    {
     "data": {
      "image/png": "[encoded data removed]",
      "text/plain": [
       "<Figure size 288x288 with 1 Axes>"
      ]
     },
     "metadata": {
      "needs_background": "light"
     },
     "output_type": "display_data"
    }
   ],
   "source": [
    "from numpy.lib.scimath import logn\n",
    "from math import e\n",
    "\n",
    "# 리스트 4-4-(4)\n",
    "x = np.linspace(-4, 4, 100)\n",
    "a = 2 # 이 값을 여러가지로 바꿔 보자\n",
    "y = a**x\n",
    "dy = logn(e,a)*a**x      # None 대신에 알맞은 코드로 채우시오\n",
    "\n",
    "\n",
    "plt.figure(figsize=(4, 4))\n",
    "plt.plot(x, y, 'gray', linestyle='--', linewidth=3)\n",
    "plt.plot(x, dy, color='black', linewidth=3)\n",
    "plt.ylim(-1, 8)\n",
    "plt.xlim(-4, 4)\n",
    "plt.grid(True)\n",
    "plt.show()\n"
   ]
  },
  {
   "cell_type": "markdown",
   "metadata": {},
   "source": [
    "### 4.7.4 로그함수의 미분"
   ]
  },
  {
   "cell_type": "code",
   "execution_count": 52,
   "metadata": {
    "scrolled": true
   },
   "outputs": [
    {
     "data": {
      "image/png": "[encoded data removed]",
      "text/plain": [
       "<Figure size 288x288 with 1 Axes>"
      ]
     },
     "metadata": {
      "needs_background": "light"
     },
     "output_type": "display_data"
    }
   ],
   "source": [
    "# 리스트 4-4-(5)\n",
    "x = np.linspace (0.0001, 4, 100) # 0 이하로 정의할 수 없음\n",
    "y = np.log(x)\n",
    "dy = 1/x*np.log(e)      # None 대신에 알맞은 코드로 채우시오\n",
    "\n",
    "plt.figure(figsize=(4, 4))\n",
    "plt.plot(x, y, 'gray', linestyle='--', linewidth=3)\n",
    "plt.plot(x, dy, color='black', linewidth=3)\n",
    "plt.ylim(-8, 8)\n",
    "plt.xlim(-1, 4)\n",
    "plt.grid(True)\n",
    "plt.show()\n"
   ]
  },
  {
   "cell_type": "markdown",
   "metadata": {},
   "source": [
    "### 4.7.5 시그모이드 함수"
   ]
  },
  {
   "cell_type": "markdown",
   "metadata": {},
   "source": [
    "<img src=\"식4-113.JPG\" style=\"width:600px\">  "
   ]
  },
  {
   "cell_type": "code",
   "execution_count": 53,
   "metadata": {
    "scrolled": true
   },
   "outputs": [
    {
     "data": {
      "image/png": "[encoded data removed]",
      "text/plain": [
       "<Figure size 288x288 with 1 Axes>"
      ]
     },
     "metadata": {
      "needs_background": "light"
     },
     "output_type": "display_data"
    }
   ],
   "source": [
    "# 리스트 4-4-(6)\n",
    "x = np.linspace(-10, 10, 100)\n",
    "y = 1 / (1 + np.exp(-x))\n",
    "\n",
    "plt.figure(figsize=(4, 4))\n",
    "plt.plot(x, y, 'black', linewidth=3)\n",
    "\n",
    "plt.ylim(-1, 2)\n",
    "plt.xlim(-10, 10)\n",
    "plt.grid(True)\n",
    "plt.show()\n"
   ]
  },
  {
   "cell_type": "markdown",
   "metadata": {},
   "source": [
    "<img src=\"식4-115.JPG\" style=\"width:600px\">  \n",
    "<img src=\"식4-117.JPG\" style=\"width:600px\">  "
   ]
  },
  {
   "cell_type": "markdown",
   "metadata": {},
   "source": [
    "### 4.7.6 소프트맥스 함수"
   ]
  },
  {
   "cell_type": "markdown",
   "metadata": {},
   "source": [
    "<img src=\"식4-119.JPG\" style=\"width:600px\">  "
   ]
  },
  {
   "cell_type": "code",
   "execution_count": 54,
   "metadata": {},
   "outputs": [
    {
     "name": "stdout",
     "output_type": "stream",
     "text": [
      "[0.71 0.26 0.04]\n",
      "1.0\n"
     ]
    }
   ],
   "source": [
    "# 리스트 4-4-(7)\n",
    "def softmax(x0, x1, x2):\n",
    "    u = np.exp(x0) + np.exp(x1) + np.exp(x2)\n",
    "    return np.exp(x0) / u, np.exp(x1) / u, np.exp(x2) / u \n",
    "\n",
    "\n",
    "# test\n",
    "y = softmax(2, 1, -1)\n",
    "print(np.round (y, 2)) # (A) 소수점 2 자리로 최대한 가깝게 표시\n",
    "print(np.sum (y)) # (B) 합계를 표시\n"
   ]
  },
  {
   "cell_type": "markdown",
   "metadata": {},
   "source": [
    "<img src=\"리스트4-4-(8)설명-1.JPG\" style=\"width:600px\"> "
   ]
  },
  {
   "cell_type": "code",
   "execution_count": null,
   "metadata": {
    "scrolled": true
   },
   "outputs": [],
   "source": [
    "# 리스트 4-4-(8)\n",
    "\n",
    "from mpl_toolkits.mplot3d import Axes3D\n",
    "\n",
    "xn = 20\n",
    "x0 = np.linspace(-4, 4, xn)\n",
    "x1 = np.linspace(-4, 4, xn)\n",
    "\n",
    "y = np.zeros((xn, xn, 3))\n",
    "for i0 in range(xn):\n",
    "    for i1 in range(xn):\n",
    "        y[i1, i0, :] = softmax(x0[i0], x1[i1], 1)\n",
    "\n",
    "xx0, xx1 = np.meshgrid(x0, x1)\n",
    "plt.figure(figsize=(8, 3))\n",
    "for i in range(2):\n",
    "    ax = plt.subplot(1, 2, i + 1, projection='3d')\n",
    "    ax.plot_surface(xx0, xx1, y[:, :, i],\n",
    "                    rstride=1, cstride=1, alpha=0.3,\n",
    "                    color='blue', edgecolor='black')\n",
    "    ax.set_xlabel('$x_0$', fontsize=14)\n",
    "    ax.set_ylabel('$x_1$', fontsize=14)\n",
    "    ax.view_init(40, -125)\n",
    "    \n",
    "plt.show()\n"
   ]
  },
  {
   "cell_type": "markdown",
   "metadata": {},
   "source": [
    "<img src=\"리스트4-4-(8)설명-2.JPG\" style=\"width:600px\"> "
   ]
  },
  {
   "cell_type": "markdown",
   "metadata": {},
   "source": [
    "**소프트맥스 함수의 미분**"
   ]
  },
  {
   "cell_type": "markdown",
   "metadata": {},
   "source": [
    "<img src=\"식4-121.JPG\" style=\"width:600px\"> \n",
    "<img src=\"식4-126.JPG\" style=\"width:600px\"> \n",
    "<img src=\"식4-130.JPG\" style=\"width:600px\"> "
   ]
  },
  {
   "cell_type": "markdown",
   "metadata": {},
   "source": [
    "### 4.7.7 소프트맥스 함수와 시그모이드 함수"
   ]
  },
  {
   "cell_type": "markdown",
   "metadata": {},
   "source": [
    "<img src=\"식4-131.JPG\" style=\"width:600px\"> "
   ]
  },
  {
   "cell_type": "markdown",
   "metadata": {},
   "source": [
    "### 4.7.8 가우스 함수"
   ]
  },
  {
   "cell_type": "markdown",
   "metadata": {},
   "source": [
    "<img src=\"그림4-35.JPG\" style=\"width:600px\"> "
   ]
  },
  {
   "cell_type": "code",
   "execution_count": null,
   "metadata": {
    "scrolled": true
   },
   "outputs": [],
   "source": [
    "# 리스트 4-4-(9)\n",
    "def gauss(mu, sigma, a):\n",
    "    return a * np.exp(-(x - mu)**2 / sigma**2)\n",
    "\n",
    "x = np.linspace(-4, 4, 100)\n",
    "plt.figure(figsize=(4, 4))\n",
    "plt.plot(x, gauss(0, 1, 1), 'black', linewidth=3)\n",
    "plt.plot(x, gauss(2, 3, 0.5), 'gray', linewidth=3)\n",
    "plt.ylim(-.5, 1.5)\n",
    "plt.xlim(-4, 4)\n",
    "plt.grid(True)\n",
    "plt.show()\n"
   ]
  },
  {
   "cell_type": "code",
   "execution_count": null,
   "metadata": {},
   "outputs": [],
   "source": []
  }
 ],
 "metadata": {
  "kernelspec": {
   "display_name": "Python 3",
   "language": "python",
   "name": "python3"
  },
  "language_info": {
   "codemirror_mode": {
    "name": "ipython",
    "version": 3
   },
   "file_extension": ".py",
   "mimetype": "text/x-python",
   "name": "python",
   "nbconvert_exporter": "python",
   "pygments_lexer": "ipython3",
   "version": "3.7.3"
  }
 },
 "nbformat": 4,
 "nbformat_minor": 2
}
