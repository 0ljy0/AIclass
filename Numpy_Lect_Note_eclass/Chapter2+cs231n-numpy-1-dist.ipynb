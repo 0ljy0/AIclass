{
 "cells": [
  {
   "cell_type": "markdown",
   "metadata": {},
   "source": [
    "# Numpy 튜토리얼 (1) - 배포용"
   ]
  },
  {
   "cell_type": "markdown",
   "metadata": {},
   "source": [
    "<span style=\"color:red\">\n",
    "    본 자료는 교재 \"파이썬으로 배우는 머신러닝의 교과서\" chapter 2의 내용과 Stanford 강의 \"CS231n, Python Numpy Tutorial\"의 한글버전(http://aikorea.org/cs231n/python-numpy-tutorial/)을 파이썬 3 버전에 맞게 수정한 것과, TAEWAN.KIM 블로그 자료 \"파이썬 데이터 사이언스 Cheat Sheet: NumPy 기초, 기본\", http://taewan.kim/post/numpy_cheat_sheet/, 및 그 외에 다른 참고자료들을 일부 추가하여 만들었습니다.\n",
    "</span>\n",
    "\n",
    "참고 자료: \n",
    "- 이토마코토/박광수, 파이썬으로 배우는 머신러닝의 교과서, chapter 2, 한빛미디어, 2018\n",
    "- Stanford university, CS231n, Python Numpy Tutorial,의 한글버전 (http://aikorea.org/cs231n/python-numpy-tutorial/)\n",
    "- TAEWAN.KIM, 파이썬 데이터 사이언스 Cheat Sheet: NumPy 기초, 기본, http://taewan.kim/post/numpy_cheat_sheet/\n",
    "- Numpy manual https://docs.scipy.org/doc/numpy/contents.html"
   ]
  },
  {
   "cell_type": "markdown",
   "metadata": {},
   "source": [
    "**리스트로 벡터행렬 연산을 하는 경우의 문제점**:"
   ]
  },
  {
   "cell_type": "code",
   "execution_count": 1,
   "metadata": {},
   "outputs": [
    {
     "data": {
      "text/plain": [
       "[1, 2, 3, 4]"
      ]
     },
     "execution_count": 1,
     "metadata": {},
     "output_type": "execute_result"
    }
   ],
   "source": [
    "[1,2] + [3,4]    # 1차원 리스트에서의 +는 벡터 덧셈이 아니라 list concatenation이 됨"
   ]
  },
  {
   "cell_type": "code",
   "execution_count": 27,
   "metadata": {},
   "outputs": [
    {
     "data": {
      "text/plain": [
       "[[1, 2], [3, 4], [5, 6], [7, 8]]"
      ]
     },
     "execution_count": 27,
     "metadata": {},
     "output_type": "execute_result"
    }
   ],
   "source": [
    "[[1,2], [3,4]] + [[5,6], [7,8]]    # 2차원 리스트(리스트의 리스트)에서도 마찬가지로 list concatenation이 일어남."
   ]
  },
  {
   "cell_type": "markdown",
   "metadata": {},
   "source": [
    "Numpy는 파이썬이 벡터, 행렬 등으로 계산과학분야에 이용될때 핵심 역할을 하는 라이브러리입니다. Numpy는 고성능의 다차원 배열 객체와 이를 다룰 도구를 제공합니다."
   ]
  },
  {
   "cell_type": "markdown",
   "metadata": {},
   "source": [
    "## 배열"
   ]
  },
  {
   "cell_type": "markdown",
   "metadata": {},
   "source": [
    "Numpy 배열은 동일한 자료형을 가지는 값들이 격자판 형태로 있는 것입니다. 각각의 값들은 튜플 형태로 색인 됩니다. rank는 배열이 몇 차원인지를 의미합니다; shape는 는 각 차원의 크기를 알려주는 정수들이 모인 튜플입니다.\n",
    "\n",
    "파이썬의 리스트를 중첩해 Numpy 배열을 초기화 할 수 있고, 대괄호를 통해 각 요소에 접근할 수 있습니다:"
   ]
  },
  {
   "cell_type": "code",
   "execution_count": 3,
   "metadata": {
    "scrolled": true
   },
   "outputs": [
    {
     "name": "stdout",
     "output_type": "stream",
     "text": [
      "[1 2 3]\n",
      "<class 'numpy.ndarray'>\n",
      "1\n",
      "(3,)\n",
      "1 2 3\n",
      "[5 2 3]\n",
      "[[1 2 3]\n",
      " [4 5 6]]\n",
      "2\n",
      "(2, 3)\n",
      "w= 2 h= 3\n",
      "[1 2 3]\n",
      "1 2 4\n",
      "1 2 4\n"
     ]
    }
   ],
   "source": [
    "import numpy as np    # 파이썬에서 NumPy를 사용할 때, numpy 모듈을 “np”로 임포트하여 사용합니다.\n",
    "\n",
    "a = np.array([1, 2, 3])    # rank가 1인 배열 생성\n",
    "print (a)\n",
    "print (type(a))            # 출력 \"<type 'numpy.ndarray'>\"\n",
    "print (a.ndim)             # a의 차원(rank): 출력 1\n",
    "print (a.shape)            # 출력 \"(3,)\"\n",
    "print (a[0], a[1], a[2])   # 출력 \"1 2 3\"\n",
    "a[0] = 5                   # 요소를 변경\n",
    "print (a)                  # 출력 \"[5, 2, 3]\"\n",
    "\n",
    "b = np.array([[1,2,3],[4,5,6]])   # rank가 2인 배열 생성\n",
    "print (b)\n",
    "print (b.ndim)             # b의 차원(rank): 출력 2\n",
    "print (b.shape)            # 출력 \"(2, 3)\"\n",
    "w, h = b.shape\n",
    "print (\"w=\",w,\"h=\",h)\n",
    "print (b[0])               # 출력 \"[1 2 3]\"\"\n",
    "print (b[0][0], b[0][1], b[1][0])   # 출력 \"1 2 4\"\n",
    "print (b[0,0], b[0,1], b[1,0])   # 출력 \"1 2 4\""
   ]
  },
  {
   "cell_type": "markdown",
   "metadata": {},
   "source": [
    "**실습문제**: 1부터 9까지의 숫자를 가지는 3x3 행렬을 numpy 객체 A로 생성하여라. \n",
    "- A의 모든 원소를 출력하라.\n",
    "- A의 차원(rank)를 출력하라.\n",
    "- A의 shape를 출력하라.\n",
    "- A의 모든 원소에 대해 첫번째 행은 10을 더하고, 두번째 행은 20을 더하고, 세번째 행은 30을 더한 뒤, A의 모든 원소를 출력하라."
   ]
  },
  {
   "cell_type": "code",
   "execution_count": 11,
   "metadata": {},
   "outputs": [
    {
     "name": "stdout",
     "output_type": "stream",
     "text": [
      "[[1 2 3]\n",
      " [4 5 6]\n",
      " [7 8 9]]\n",
      "2\n",
      "(3, 3)\n",
      "<class 'tuple'>\n",
      "[[11 12 13]\n",
      " [24 25 26]\n",
      " [37 38 39]]\n"
     ]
    }
   ],
   "source": [
    "import numpy as np\n",
    "A = np.array([[1,2,3],[4,5,6],[7,8,9]])\n",
    "print(A)\n",
    "print(A.ndim)\n",
    "print(A.shape)\n",
    "print(type(A.shape))\n",
    "for i in [0,1,2]:\n",
    "    A[i][0] +=(i+1)*10\n",
    "    A[i][1] +=(i+1)*10\n",
    "    A[i][2] +=(i+1)*10\n",
    "print(A)"
   ]
  },
  {
   "cell_type": "markdown",
   "metadata": {},
   "source": [
    "**np.arange()에 관하여**"
   ]
  },
  {
   "cell_type": "code",
   "execution_count": 16,
   "metadata": {},
   "outputs": [
    {
     "name": "stdout",
     "output_type": "stream",
     "text": [
      "[10  1]\n"
     ]
    }
   ],
   "source": [
    "import numpy as np\n",
    "print(np.array([10,1]))"
   ]
  },
  {
   "cell_type": "code",
   "execution_count": 22,
   "metadata": {},
   "outputs": [
    {
     "name": "stdout",
     "output_type": "stream",
     "text": [
      "[0 1 2 3 4 5 6 7 8 9]\n"
     ]
    }
   ],
   "source": [
    "print(np.arange(10))      # 연속된 정수 벡터의 생성, cf) list형의 range(10) "
   ]
  },
  {
   "cell_type": "code",
   "execution_count": 23,
   "metadata": {
    "scrolled": true
   },
   "outputs": [
    {
     "name": "stdout",
     "output_type": "stream",
     "text": [
      "[5 6 7 8 9]\n"
     ]
    }
   ],
   "source": [
    "print(np.arange(5, 10))"
   ]
  },
  {
   "cell_type": "code",
   "execution_count": 28,
   "metadata": {},
   "outputs": [
    {
     "name": "stdout",
     "output_type": "stream",
     "text": [
      "[1 3 5 7 9]\n"
     ]
    }
   ],
   "source": [
    "print(np.arange(1, 10, 1)"
   ]
  },
  {
   "cell_type": "code",
   "execution_count": 108,
   "metadata": {
    "scrolled": true
   },
   "outputs": [
    {
     "name": "stdout",
     "output_type": "stream",
     "text": [
      "1\n",
      "[5 6 7]\n",
      "2\n",
      "[6 7 8]\n",
      "3\n",
      "[7 8 9]\n"
     ]
    }
   ],
   "source": [
    "j = np.array([4, 5, 6])\n",
    "for i in np.arange(1,4):\n",
    "    print(i)\n",
    "    print(i + j)"
   ]
  },
  {
   "cell_type": "markdown",
   "metadata": {},
   "source": [
    "리스트의 중첩이 아니더라도 Numpy는 배열을 만들기 위한 다양한 함수를 제공합니다."
   ]
  },
  {
   "cell_type": "code",
   "execution_count": 12,
   "metadata": {
    "scrolled": true
   },
   "outputs": [
    {
     "name": "stdout",
     "output_type": "stream",
     "text": [
      "[0. 0. 0. 0. 0. 0. 0. 0. 0. 0.]\n",
      "[[0. 0.]\n",
      " [0. 0.]]\n",
      "[1. 1. 1. 1. 1. 1. 1. 1. 1. 1.]\n",
      "[[1. 1.]]\n",
      "[[7 7]\n",
      " [7 7]]\n",
      "[[1. 0.]\n",
      " [0. 1.]]\n",
      "[[1. 0.]\n",
      " [0. 1.]]\n",
      "[[0.89830627 0.16942246]\n",
      " [0.45749001 0.0962928 ]]\n"
     ]
    }
   ],
   "source": [
    "import numpy as np\n",
    "\n",
    "print (np.zeros(10))\n",
    "\n",
    "a = np.zeros((2,2))  # 모든 값이 0인 배열 생성, 2차원 배열인 경우 튜플(2,2)로 차원을 나타냄, 따라서 안에 ()가 하나 더 있음\n",
    "print (a)              # 출력 \"[[ 0.  0.]\n",
    "                     #       [ 0.  0.]]\"\n",
    "print (np.ones(10))\n",
    "\n",
    "b = np.ones((1,2))   # 모든 값이 1인 배열 생성\n",
    "print (b)              # 출력 \"[[ 1.  1.]]\"\n",
    "\n",
    "c = np.full((2,2), 7) # 모든 값이 특정 상수인 배열 생성\n",
    "print (c)               # 출력 \"[[ 7.  7.]\n",
    "                      #       [ 7.  7.]]\"\n",
    "\n",
    "d = np.eye(2)        # 2x2 단위행렬 생성\n",
    "print (d)              # 출력 \"[[ 1.  0.]\n",
    "                     #       [ 0.  1.]]\"\n",
    "d = np.identity(2)   # np.eye(2)와 같은 결과\n",
    "print (d) \n",
    "\n",
    "e = np.random.random((2,2)) # 임의의 값으로 채워진 배열 생성\n",
    "print (e)                     # 임의의 값 출력 \"[[ 0.91940167  0.08143941]\n",
    "                            #                  [ 0.68744134  0.87236687]]\""
   ]
  },
  {
   "cell_type": "markdown",
   "metadata": {},
   "source": [
    "**실습문제**: 5x5 행렬을 하나 생성하여 모든 행을 0부터 4까지의 정수로 채우시오."
   ]
  },
  {
   "cell_type": "code",
   "execution_count": 19,
   "metadata": {
    "scrolled": false
   },
   "outputs": [
    {
     "name": "stdout",
     "output_type": "stream",
     "text": [
      "[[0. 0. 0. 0. 0.]\n",
      " [0. 0. 0. 0. 0.]\n",
      " [0. 0. 0. 0. 0.]\n",
      " [0. 0. 0. 0. 0.]\n",
      " [0. 0. 0. 0. 0.]]\n"
     ]
    },
    {
     "data": {
      "text/plain": [
       "array([[0., 1., 2., 3., 4.],\n",
       "       [0., 1., 2., 3., 4.],\n",
       "       [0., 1., 2., 3., 4.],\n",
       "       [0., 1., 2., 3., 4.],\n",
       "       [0., 1., 2., 3., 4.]])"
      ]
     },
     "execution_count": 19,
     "metadata": {},
     "output_type": "execute_result"
    }
   ],
   "source": [
    "A = np.zeros((5,5))\n",
    "print(A)\n",
    "for i in np.arange(5):\n",
    "    A[i,:]+=np.arange(5)\n",
    "A"
   ]
  },
  {
   "cell_type": "markdown",
   "metadata": {},
   "source": [
    "**실습문제**: 대각요소(diagonal element) 위는 1로 채우고, 아래는 0으로 채운 삼각행렬(triangular matrix)를 만드시오. (슬라이싱 기능을 사용하지 말고 for loop을 이용하시오.)"
   ]
  },
  {
   "cell_type": "code",
   "execution_count": 22,
   "metadata": {
    "scrolled": true
   },
   "outputs": [
    {
     "name": "stdout",
     "output_type": "stream",
     "text": [
      "10\n"
     ]
    },
    {
     "data": {
      "text/plain": [
       "array([[1., 1., 1., 1., 1., 1., 1., 1., 1., 1.],\n",
       "       [0., 1., 1., 1., 1., 1., 1., 1., 1., 1.],\n",
       "       [0., 0., 1., 1., 1., 1., 1., 1., 1., 1.],\n",
       "       [0., 0., 0., 1., 1., 1., 1., 1., 1., 1.],\n",
       "       [0., 0., 0., 0., 1., 1., 1., 1., 1., 1.],\n",
       "       [0., 0., 0., 0., 0., 1., 1., 1., 1., 1.],\n",
       "       [0., 0., 0., 0., 0., 0., 1., 1., 1., 1.],\n",
       "       [0., 0., 0., 0., 0., 0., 0., 1., 1., 1.],\n",
       "       [0., 0., 0., 0., 0., 0., 0., 0., 1., 1.],\n",
       "       [0., 0., 0., 0., 0., 0., 0., 0., 0., 1.]])"
      ]
     },
     "execution_count": 22,
     "metadata": {},
     "output_type": "execute_result"
    }
   ],
   "source": [
    "A = np.ones((10,10))\n",
    "print(A.shape[0])\n",
    "for i in np.arange(1,A.shape[0]): # 1부터 9까지\n",
    "    for j in np.arange(i): # 1부터 9까지 \n",
    "        A[i,j] = 0\n",
    "A"
   ]
  },
  {
   "cell_type": "markdown",
   "metadata": {},
   "source": [
    "**실습문제**: 1부터 n^2까지의 숫자를 가지는 nxn 행렬을 numpy 객체 A로 생성하여라. \n",
    "- A의 모든 원소에 대해 첫번째 행은 10을 더하고, 두번째 행은 20을 더하고, 세번째 행은 30을 더하고, ..., 그런 후 A의 모든 원소를 출력하라."
   ]
  },
  {
   "cell_type": "code",
   "execution_count": 25,
   "metadata": {
    "scrolled": true
   },
   "outputs": [
    {
     "name": "stdout",
     "output_type": "stream",
     "text": [
      "[[ 1.  2.  3.  4.  5.  6.  7.  8.  9.]\n",
      " [10. 11. 12. 13. 14. 15. 16. 17. 18.]\n",
      " [19. 20. 21. 22. 23. 24. 25. 26. 27.]\n",
      " [28. 29. 30. 31. 32. 33. 34. 35. 36.]\n",
      " [37. 38. 39. 40. 41. 42. 43. 44. 45.]\n",
      " [46. 47. 48. 49. 50. 51. 52. 53. 54.]\n",
      " [55. 56. 57. 58. 59. 60. 61. 62. 63.]\n",
      " [64. 65. 66. 67. 68. 69. 70. 71. 72.]\n",
      " [73. 74. 75. 76. 77. 78. 79. 80. 81.]]\n",
      "2\n",
      "(9, 9)\n",
      "[[ 11.  12.  13.  14.  15.  16.  17.  18.  19.]\n",
      " [ 30.  31.  32.  33.  34.  35.  36.  37.  38.]\n",
      " [ 49.  50.  51.  52.  53.  54.  55.  56.  57.]\n",
      " [ 68.  69.  70.  71.  72.  73.  74.  75.  76.]\n",
      " [ 87.  88.  89.  90.  91.  92.  93.  94.  95.]\n",
      " [106. 107. 108. 109. 110. 111. 112. 113. 114.]\n",
      " [125. 126. 127. 128. 129. 130. 131. 132. 133.]\n",
      " [144. 145. 146. 147. 148. 149. 150. 151. 152.]\n",
      " [163. 164. 165. 166. 167. 168. 169. 170. 171.]]\n"
     ]
    }
   ],
   "source": [
    "import numpy as np\n",
    "n = 9\n",
    "A=np.zeros((n,n))\n",
    "for i in range(n):\n",
    "    for j in range(n):\n",
    "        A[i,j] = i*n + j + 1\n",
    "print(A)\n",
    "print(A.ndim)\n",
    "print(A.shape)\n",
    "for i in range(n):\n",
    "    for j in range(n):\n",
    "        A[i,j]+=(i+1)*10\n",
    "print(A)"
   ]
  },
  {
   "cell_type": "markdown",
   "metadata": {},
   "source": [
    "### 요소가 랜덤인 배열의 생성"
   ]
  },
  {
   "cell_type": "code",
   "execution_count": 13,
   "metadata": {},
   "outputs": [
    {
     "data": {
      "text/plain": [
       "array([[0.15578056, 0.47902524, 0.59964844],\n",
       "       [0.58756797, 0.60377539, 0.71434507]])"
      ]
     },
     "execution_count": 13,
     "metadata": {},
     "output_type": "execute_result"
    }
   ],
   "source": [
    "np.random.rand(2, 3)      # (2,3) 행렬의 요소를 0과 1사이의 균등분포로 랜덤하게 생성"
   ]
  },
  {
   "cell_type": "code",
   "execution_count": 14,
   "metadata": {},
   "outputs": [
    {
     "data": {
      "text/plain": [
       "array([[-0.38361736, -1.76759864, -1.17199333],\n",
       "       [-1.34291805, -0.88466284,  0.03236283]])"
      ]
     },
     "execution_count": 14,
     "metadata": {},
     "output_type": "execute_result"
    }
   ],
   "source": [
    "np.random.randn(2, 3)      # (2,3) 행렬의 요소를 평균 0, 분산 1의 가우스분포로 랜덤하게 생성"
   ]
  },
  {
   "cell_type": "code",
   "execution_count": 15,
   "metadata": {
    "scrolled": true
   },
   "outputs": [
    {
     "data": {
      "text/plain": [
       "array([89, 81, 25, 96, 74])"
      ]
     },
     "execution_count": 15,
     "metadata": {},
     "output_type": "execute_result"
    }
   ],
   "source": [
    "np.random.randint(10, 100, 5)      # 10부터 100까지 정수 5개를 랜덤하게 생성"
   ]
  },
  {
   "cell_type": "code",
   "execution_count": 116,
   "metadata": {},
   "outputs": [
    {
     "data": {
      "text/plain": [
       "array([[55, 88, 90, 52, 92],\n",
       "       [97, 99, 62, 51, 78]])"
      ]
     },
     "execution_count": 116,
     "metadata": {},
     "output_type": "execute_result"
    }
   ],
   "source": [
    "np.random.randint(10, 100, (2,5))      # 10부터 100까지 정수를 (2,5) 행렬로 랜덤하게 생성"
   ]
  },
  {
   "cell_type": "markdown",
   "metadata": {},
   "source": [
    "**실습문제**: 원소들의 값이 랜덤인 10x10 행렬을 생성하고, 최대값과 최소값을 찾으시오. (np.max()와 np.min() 함수를 사용하지 말고 for loop을 이용하시오.)"
   ]
  },
  {
   "cell_type": "code",
   "execution_count": 35,
   "metadata": {},
   "outputs": [
    {
     "name": "stdout",
     "output_type": "stream",
     "text": [
      "[[68 11  4 14 35 47 53 52 12  1]\n",
      " [95 14 69 38 22 26 64 29  1 64]\n",
      " [ 7 67 89  4 80 39  8 29 77 10]\n",
      " [69 66 20 37  2 13 41 40 14 39]\n",
      " [63 93  9  5 51 20 73 73 49 60]\n",
      " [11 34 62 42  7 39 92 55 30 97]\n",
      " [67 66 99 91 14  9 91 82 58 52]\n",
      " [27 76 29 97 99 34 90 93 75 42]\n",
      " [82 70 27  2 38  6 26 63 92 30]\n",
      " [54 10 59 90 75 27  5 51  1 12]]\n",
      "[ 1  2  3  4  5  6  7  8  9 10]\n",
      "92\n"
     ]
    }
   ],
   "source": [
    "A = np.random.randint(1,100,(10,10))\n",
    "print(A)\n",
    "print(np.arange(1,11))\n",
    "maxv = 0\n",
    "for i in range(1,10): # 행 (0,0) 부터 9,9까지 비교\n",
    "    for j in range(1,10): # 열\n",
    "        if A[i-1,j-1] < A[i-1,j]:\n",
    "            maxv = A[i-1,j]\n",
    "        else:\n",
    "            maxv = A[i-1,j-1]\n",
    "print(maxv)\n"
   ]
  },
  {
   "cell_type": "markdown",
   "metadata": {},
   "source": [
    "**random number 생성 시 seed 값 주기**: \n",
    "\n",
    "    np.random.seed(seed_value)"
   ]
  },
  {
   "cell_type": "code",
   "execution_count": 17,
   "metadata": {},
   "outputs": [
    {
     "data": {
      "text/plain": [
       "10"
      ]
     },
     "execution_count": 17,
     "metadata": {},
     "output_type": "execute_result"
    }
   ],
   "source": [
    "A = np.ones((10,10))\n",
    "A.shape[0]"
   ]
  },
  {
   "cell_type": "code",
   "execution_count": 21,
   "metadata": {},
   "outputs": [],
   "source": [
    "# seed 값을 설정하여 아래에서 난수가 재연 가능하도록 함\n",
    "np.random.seed(100)"
   ]
  },
  {
   "cell_type": "code",
   "execution_count": 22,
   "metadata": {},
   "outputs": [
    {
     "data": {
      "text/plain": [
       "array([[0.54340494, 0.27836939, 0.42451759],\n",
       "       [0.84477613, 0.00471886, 0.12156912]])"
      ]
     },
     "execution_count": 22,
     "metadata": {},
     "output_type": "execute_result"
    }
   ],
   "source": [
    "np.random.rand(2, 3)"
   ]
  },
  {
   "cell_type": "code",
   "execution_count": 23,
   "metadata": {},
   "outputs": [
    {
     "data": {
      "text/plain": [
       "array([[ 0.98132079,  0.51421884,  0.22117967],\n",
       "       [-1.07004333, -0.18949583,  0.25500144]])"
      ]
     },
     "execution_count": 23,
     "metadata": {},
     "output_type": "execute_result"
    }
   ],
   "source": [
    "np.random.randn(2, 3)"
   ]
  },
  {
   "cell_type": "code",
   "execution_count": 24,
   "metadata": {},
   "outputs": [
    {
     "data": {
      "text/plain": [
       "array([26, 19, 96, 12, 37])"
      ]
     },
     "execution_count": 24,
     "metadata": {},
     "output_type": "execute_result"
    }
   ],
   "source": [
    "np.random.randint(10, 100, 5)"
   ]
  },
  {
   "cell_type": "markdown",
   "metadata": {},
   "source": [
    "## 자료형"
   ]
  },
  {
   "cell_type": "markdown",
   "metadata": {},
   "source": [
    "NumPy는 다음과 같은 데이터 타입을 지원합니다. 배열을 생성할 때 dtype속성으로 다음과 같은 데이터 타입을 지정할 수 있습니다:\n",
    "- np.int32 : 32 비트 정수 타입\n",
    "- np.float64 : 64 비트 부동 소수 타입\n",
    "- np.complex : 복소수 (128 float)\n",
    "- np.bool : 불린 타입 (True, False)\n",
    "- np.object : 파이썬 객체 타입\n",
    "- np.string_ : 고정자리 스트링 타입\n",
    "- np.unicode_ : 고정자리 유니코드 타입\n"
   ]
  },
  {
   "cell_type": "markdown",
   "metadata": {},
   "source": [
    "Numpy는 배열이 생성될 때 자료형을 스스로 추측합니다, 그러나 배열을 생성할 때 명시적으로 특정 자료형을 지정할 수도 있습니다. "
   ]
  },
  {
   "cell_type": "code",
   "execution_count": 2,
   "metadata": {
    "scrolled": false
   },
   "outputs": [
    {
     "name": "stdout",
     "output_type": "stream",
     "text": [
      "int32\n",
      "float64\n",
      "int64\n"
     ]
    }
   ],
   "source": [
    "import numpy as np\n",
    "\n",
    "x = np.array([1, 2])  # Numpy가 자료형을 추측해서 선택\n",
    "print (x.dtype)         # 출력 \"int32\"\n",
    "\n",
    "x = np.array([1.0, 2.0])  # Numpy가 자료형을 추측해서 선택\n",
    "print (x.dtype)             # 출력 \"float64\"\n",
    "\n",
    "x = np.array([1, 2], dtype=np.int64)  # 특정 자료형을 명시적으로 지정\n",
    "print (x.dtype)                         # 출력 \"int64\""
   ]
  },
  {
   "cell_type": "markdown",
   "metadata": {},
   "source": [
    "## 배열의 속성 확인"
   ]
  },
  {
   "cell_type": "markdown",
   "metadata": {},
   "source": [
    "![대체 텍스트](attribute.JPG)"
   ]
  },
  {
   "cell_type": "code",
   "execution_count": 3,
   "metadata": {},
   "outputs": [
    {
     "data": {
      "text/plain": [
       "array([[[0.58403552, 0.48669189, 0.23910756],\n",
       "        [0.84334134, 0.72136029, 0.36715268]],\n",
       "\n",
       "       [[0.73029773, 0.62699657, 0.21056904],\n",
       "        [0.71537227, 0.60831941, 0.953575  ]],\n",
       "\n",
       "       [[0.66339792, 0.68405949, 0.45335461],\n",
       "        [0.40957499, 0.06457012, 0.63736258]],\n",
       "\n",
       "       [[0.32560103, 0.88429382, 0.34990223],\n",
       "        [0.52589402, 0.85216698, 0.03109399]],\n",
       "\n",
       "       [[0.41037066, 0.78179478, 0.6269085 ],\n",
       "        [0.07705805, 0.8422231 , 0.3462618 ]]])"
      ]
     },
     "execution_count": 3,
     "metadata": {},
     "output_type": "execute_result"
    }
   ],
   "source": [
    "#데모 배열 객체 생성\n",
    "arr = np.random.random((5,2,3))\n",
    "arr"
   ]
  },
  {
   "cell_type": "code",
   "execution_count": 4,
   "metadata": {},
   "outputs": [
    {
     "data": {
      "text/plain": [
       "numpy.ndarray"
      ]
     },
     "execution_count": 4,
     "metadata": {},
     "output_type": "execute_result"
    }
   ],
   "source": [
    "#배열 타입 조회\n",
    "type(arr)"
   ]
  },
  {
   "cell_type": "code",
   "execution_count": 5,
   "metadata": {},
   "outputs": [
    {
     "data": {
      "text/plain": [
       "3"
      ]
     },
     "execution_count": 5,
     "metadata": {},
     "output_type": "execute_result"
    }
   ],
   "source": [
    "# 배열의 차원 수 \n",
    "arr.ndim"
   ]
  },
  {
   "cell_type": "code",
   "execution_count": 6,
   "metadata": {},
   "outputs": [
    {
     "data": {
      "text/plain": [
       "(5, 2, 3)"
      ]
     },
     "execution_count": 6,
     "metadata": {},
     "output_type": "execute_result"
    }
   ],
   "source": [
    "# 배열의 shape 확인\n",
    "arr.shape"
   ]
  },
  {
   "cell_type": "code",
   "execution_count": 7,
   "metadata": {},
   "outputs": [
    {
     "data": {
      "text/plain": [
       "5"
      ]
     },
     "execution_count": 7,
     "metadata": {},
     "output_type": "execute_result"
    }
   ],
   "source": [
    "# 배열의 길이: shape(k, m, n) ==> k\n",
    "len(arr)"
   ]
  },
  {
   "cell_type": "code",
   "execution_count": 8,
   "metadata": {},
   "outputs": [
    {
     "data": {
      "text/plain": [
       "30"
      ]
     },
     "execution_count": 8,
     "metadata": {},
     "output_type": "execute_result"
    }
   ],
   "source": [
    "# 배열의 요소 수: shape(k, m, n) ==> k*m*n\n",
    "arr.size"
   ]
  },
  {
   "cell_type": "code",
   "execution_count": 9,
   "metadata": {},
   "outputs": [
    {
     "data": {
      "text/plain": [
       "dtype('float64')"
      ]
     },
     "execution_count": 9,
     "metadata": {},
     "output_type": "execute_result"
    }
   ],
   "source": [
    "# 배열 타입 확인\n",
    "arr.dtype"
   ]
  },
  {
   "cell_type": "code",
   "execution_count": 10,
   "metadata": {
    "scrolled": false
   },
   "outputs": [
    {
     "data": {
      "text/plain": [
       "array([[[0, 0, 0],\n",
       "        [0, 0, 0]],\n",
       "\n",
       "       [[0, 0, 0],\n",
       "        [0, 0, 0]],\n",
       "\n",
       "       [[0, 0, 0],\n",
       "        [0, 0, 0]],\n",
       "\n",
       "       [[0, 0, 0],\n",
       "        [0, 0, 0]],\n",
       "\n",
       "       [[0, 0, 0],\n",
       "        [0, 0, 0]]])"
      ]
     },
     "execution_count": 10,
     "metadata": {},
     "output_type": "execute_result"
    }
   ],
   "source": [
    "# 배열 요소를 int로 변환\n",
    "# 요소의 실제 값이 변환되는 것이 아님\n",
    "# View의 출력 타입과 연산을 변환하는 것\n",
    "arr.astype(np.int)"
   ]
  },
  {
   "cell_type": "code",
   "execution_count": 11,
   "metadata": {},
   "outputs": [
    {
     "data": {
      "text/plain": [
       "array([[[0, 0, 0],\n",
       "        [0, 0, 0]],\n",
       "\n",
       "       [[0, 0, 0],\n",
       "        [0, 0, 0]],\n",
       "\n",
       "       [[0, 0, 0],\n",
       "        [0, 0, 0]],\n",
       "\n",
       "       [[0, 0, 0],\n",
       "        [0, 0, 0]],\n",
       "\n",
       "       [[0, 0, 0],\n",
       "        [0, 0, 0]]])"
      ]
     },
     "execution_count": 11,
     "metadata": {},
     "output_type": "execute_result"
    }
   ],
   "source": [
    "np.int32(arr)"
   ]
  },
  {
   "cell_type": "code",
   "execution_count": 12,
   "metadata": {
    "scrolled": true
   },
   "outputs": [
    {
     "data": {
      "text/plain": [
       "array([[[0.58403552, 0.48669189, 0.23910756],\n",
       "        [0.84334134, 0.72136029, 0.36715268]],\n",
       "\n",
       "       [[0.73029773, 0.62699657, 0.21056904],\n",
       "        [0.71537227, 0.60831941, 0.953575  ]],\n",
       "\n",
       "       [[0.66339792, 0.68405949, 0.45335461],\n",
       "        [0.40957499, 0.06457012, 0.63736258]],\n",
       "\n",
       "       [[0.32560103, 0.88429382, 0.34990223],\n",
       "        [0.52589402, 0.85216698, 0.03109399]],\n",
       "\n",
       "       [[0.41037066, 0.78179478, 0.6269085 ],\n",
       "        [0.07705805, 0.8422231 , 0.3462618 ]]])"
      ]
     },
     "execution_count": 12,
     "metadata": {},
     "output_type": "execute_result"
    }
   ],
   "source": [
    "# np.float으로 타입을 다시 변환하면 np.int 변환 이전 값으로 모든 원소 값이 복원됨\n",
    "arr.astype(np.float)"
   ]
  },
  {
   "cell_type": "code",
   "execution_count": 13,
   "metadata": {},
   "outputs": [
    {
     "data": {
      "text/plain": [
       "array([[[0.58403552, 0.48669189, 0.23910756],\n",
       "        [0.84334134, 0.72136029, 0.36715268]],\n",
       "\n",
       "       [[0.73029773, 0.62699657, 0.21056904],\n",
       "        [0.71537227, 0.60831941, 0.953575  ]],\n",
       "\n",
       "       [[0.66339792, 0.68405949, 0.45335461],\n",
       "        [0.40957499, 0.06457012, 0.63736258]],\n",
       "\n",
       "       [[0.32560103, 0.88429382, 0.34990223],\n",
       "        [0.52589402, 0.85216698, 0.03109399]],\n",
       "\n",
       "       [[0.41037066, 0.78179478, 0.6269085 ],\n",
       "        [0.07705805, 0.8422231 , 0.3462618 ]]])"
      ]
     },
     "execution_count": 13,
     "metadata": {},
     "output_type": "execute_result"
    }
   ],
   "source": [
    "np.float64(arr)"
   ]
  },
  {
   "cell_type": "markdown",
   "metadata": {},
   "source": [
    "## 배열 인덱싱"
   ]
  },
  {
   "cell_type": "markdown",
   "metadata": {},
   "source": [
    "Numpy는 배열을 인덱싱하는 몇 가지 방법을 제공합니다."
   ]
  },
  {
   "cell_type": "markdown",
   "metadata": {},
   "source": [
    "**슬라이싱:** 파이썬 리스트와 유사하게, Numpy 배열도 슬라이싱이 가능합니다. Numpy 배열은 다차원인 경우가 많기에, 각 차원별로 어떻게 슬라이스할건지 명확히 해야 합니다:"
   ]
  },
  {
   "cell_type": "code",
   "execution_count": 81,
   "metadata": {},
   "outputs": [
    {
     "name": "stdout",
     "output_type": "stream",
     "text": [
      "[[2 3]\n",
      " [6 7]]\n",
      "[[1]]\n",
      "2\n",
      "77\n"
     ]
    }
   ],
   "source": [
    "import numpy as np\n",
    "\n",
    "# Create the following rank 2 array with shape (3, 4)\n",
    "# [[ 1  2  3  4]\n",
    "#  [ 5  6  7  8]\n",
    "#  [ 9 10 11 12]]\n",
    "a = np.array([[1,2,3,4], [5,6,7,8], [9,10,11,12]])\n",
    "\n",
    "# 슬라이싱을 이용하여 첫 두 행과 1열, 2열로 이루어진 부분배열을 만들어 봅시다;\n",
    "# b는 shape가 (2,2)인 배열이 됩니다:\n",
    "# [[2 3]\n",
    "#  [6 7]]\n",
    "c = a[:1, 0:1]\n",
    "b = a[:2, 1:3]\n",
    "print (b)\n",
    "print(c)\n",
    "\n",
    "# 슬라이싱된 배열은 원본 배열과 같은 데이터를 참조합니다, 즉 슬라이싱된 배열을 수정하면\n",
    "# 원본 배열 역시 수정됩니다.\n",
    "print (a[0, 1])   # 출력 \"2\"\n",
    "b[0, 0] = 77    # b[0, 0]은 a[0, 1]과 같은 데이터입니다\n",
    "print (a[0, 1])   # 출력 \"77\""
   ]
  },
  {
   "cell_type": "markdown",
   "metadata": {},
   "source": [
    "정수를 이용한 인덱싱과 슬라이싱을 혼합하여 사용할 수 있습니다. 하지만 이렇게 할 경우, 기존의 배열보다 낮은 rank의 배열이 얻어집니다."
   ]
  },
  {
   "cell_type": "code",
   "execution_count": 5,
   "metadata": {
    "scrolled": false
   },
   "outputs": [
    {
     "name": "stdout",
     "output_type": "stream",
     "text": [
      "[5 6 7 8] (4,)\n",
      "[[5 6 7 8]] (1, 4)\n",
      "[ 2  6 10] (3,)\n",
      "[[ 2]\n",
      " [ 6]\n",
      " [10]] (3, 1)\n"
     ]
    }
   ],
   "source": [
    "import numpy as np\n",
    "\n",
    "# 아래와 같은 요소를 가지는 rank가 2이고 shape가 (3, 4)인 배열 생성\n",
    "# [[ 1  2  3  4]\n",
    "#  [ 5  6  7  8]\n",
    "#  [ 9 10 11 12]]\n",
    "a = np.array([[1,2,3,4], [5,6,7,8], [9,10,11,12]])\n",
    "\n",
    "# 배열의 중간 행에 접근하는 두 가지 방법이 있습니다.\n",
    "# 정수 인덱싱과 슬라이싱을 혼합해서 사용하면 낮은 rank의 배열이 생성되지만,\n",
    "# 슬라이싱만 사용하면 원본 배열과 동일한 rank의 배열이 생성됩니다.\n",
    "row_r1 = a[1, :]    # 배열a의 두 번째 행을 rank가 1인 배열로\n",
    "row_r2 = a[1:2, :]  # 배열a의 두 번째 행을 rank가 2인 배열로\n",
    "print (row_r1, row_r1.shape)  # 출력 \"[5 6 7 8] (4,)\"\n",
    "print (row_r2, row_r2.shape)  # 출력 \"[[5 6 7 8]] (1, 4)\"\n",
    "\n",
    "# 행이 아닌 열의 경우에도 마찬가지입니다:\n",
    "col_r1 = (a[:, 1])\n",
    "col_r2 = (a[:, 1:2])\n",
    "print (col_r1, col_r1.shape)  # 출력 \"[ 2  6 10] (3,)\"\n",
    "print (col_r2, col_r2.shape)  # 출력 \"[[ 2]\n",
    "                            #       [ 6]\n",
    "                            #       [10]] (3, 1)\""
   ]
  },
  {
   "cell_type": "markdown",
   "metadata": {},
   "source": [
    "**실습문제**: 경계선(border)의 원소는 모두 1이고, 내부 원소는 모두 0인 (10,10) 행렬을 생성하시오."
   ]
  },
  {
   "cell_type": "code",
   "execution_count": 49,
   "metadata": {
    "scrolled": true
   },
   "outputs": [
    {
     "name": "stdout",
     "output_type": "stream",
     "text": [
      "[[1. 1. 1. 1. 1. 1. 1. 1. 1. 1.]\n",
      " [1. 1. 1. 1. 1. 1. 1. 1. 1. 1.]\n",
      " [1. 1. 1. 1. 1. 1. 1. 1. 1. 1.]\n",
      " [1. 1. 1. 1. 1. 1. 1. 1. 1. 1.]\n",
      " [1. 1. 1. 1. 1. 1. 1. 1. 1. 1.]\n",
      " [1. 1. 1. 1. 1. 1. 1. 1. 1. 1.]\n",
      " [1. 1. 1. 1. 1. 1. 1. 1. 1. 1.]\n",
      " [1. 1. 1. 1. 1. 1. 1. 1. 1. 1.]\n",
      " [1. 1. 1. 1. 1. 1. 1. 1. 1. 1.]\n",
      " [1. 1. 1. 1. 1. 1. 1. 1. 1. 1.]]\n",
      "[1, 2, 3, 4, 5, 6, 7, 8]\n",
      "[2, 3, 4, 5, 6, 7, 8]\n"
     ]
    },
    {
     "data": {
      "text/plain": [
       "array([[1., 1., 1., 1., 1., 1., 1., 1., 1., 1.],\n",
       "       [1., 0., 0., 0., 0., 0., 0., 0., 0., 1.],\n",
       "       [1., 0., 0., 0., 0., 0., 0., 0., 0., 1.],\n",
       "       [1., 0., 0., 0., 0., 0., 0., 0., 0., 1.],\n",
       "       [1., 0., 0., 0., 0., 0., 0., 0., 0., 1.],\n",
       "       [1., 0., 0., 0., 0., 0., 0., 0., 0., 1.],\n",
       "       [1., 0., 0., 0., 0., 0., 0., 0., 0., 1.],\n",
       "       [1., 0., 0., 0., 0., 0., 0., 0., 0., 1.],\n",
       "       [1., 0., 0., 0., 0., 0., 0., 0., 0., 1.],\n",
       "       [1., 1., 1., 1., 1., 1., 1., 1., 1., 1.]])"
      ]
     },
     "execution_count": 49,
     "metadata": {},
     "output_type": "execute_result"
    }
   ],
   "source": [
    "import numpy as np\n",
    "A = np.ones((10,10))\n",
    "print(A)\n",
    "print(list(range(1,9)))\n",
    "print(list(range(2,9)))\n",
    "for i in range(1,9):\n",
    "    for j in range(1,9):\n",
    "        A[i,j] = 0\n",
    "A\n",
    "\n"
   ]
  },
  {
   "cell_type": "markdown",
   "metadata": {},
   "source": [
    "**실습문제**: 대각요소(diagonal element) 위는 1로 채우고, 아래는 0으로 채운 삼각행렬(triangular matrix)를 만드시오. (슬라이싱 기능을 사용하시오.)"
   ]
  },
  {
   "cell_type": "code",
   "execution_count": 102,
   "metadata": {},
   "outputs": [
    {
     "name": "stdout",
     "output_type": "stream",
     "text": [
      "[1, 2, 3, 4, 5, 6, 7, 8, 9]\n",
      "[[1. 1. 1. 1. 1. 1. 1. 1. 1. 1.]\n",
      " [0. 1. 1. 1. 1. 1. 1. 1. 1. 1.]\n",
      " [0. 0. 1. 1. 1. 1. 1. 1. 1. 1.]\n",
      " [0. 0. 0. 1. 1. 1. 1. 1. 1. 1.]\n",
      " [0. 0. 0. 0. 1. 1. 1. 1. 1. 1.]\n",
      " [0. 0. 0. 0. 0. 1. 1. 1. 1. 1.]\n",
      " [0. 0. 0. 0. 0. 0. 1. 1. 1. 1.]\n",
      " [0. 0. 0. 0. 0. 0. 0. 1. 1. 1.]\n",
      " [0. 0. 0. 0. 0. 0. 0. 0. 1. 1.]\n",
      " [0. 0. 0. 0. 0. 0. 0. 0. 0. 1.]]\n"
     ]
    }
   ],
   "source": [
    "A = np.zeros((10,10))\n",
    "print(list(range(1,10)))\n",
    "A[:1,0:1] = 1\n",
    "for i in list(range(1,10)):\n",
    "    for j in list(range(1,11)):\n",
    "        A[:i+1,i:j] = 1\n",
    "        \n",
    "print(A)"
   ]
  },
  {
   "cell_type": "markdown",
   "metadata": {},
   "source": [
    "**실습문제**: 8x8 행렬을 생성해서 체커보드(checkerboard) 패턴으로 0과 1로 초기화 하시오. (예를들어 아래는 4x4 행렬의 체커보드 패턴이다.)\n",
    "\n",
    "    1 0 1 0\n",
    "    0 1 0 1\n",
    "    1 0 1 0\n",
    "    0 1 0 1"
   ]
  },
  {
   "cell_type": "code",
   "execution_count": 115,
   "metadata": {},
   "outputs": [
    {
     "name": "stdout",
     "output_type": "stream",
     "text": [
      "[[0. 0. 0. 0. 0. 0. 0. 0.]\n",
      " [0. 0. 0. 0. 0. 0. 0. 0.]\n",
      " [0. 0. 0. 0. 0. 0. 0. 0.]\n",
      " [0. 0. 0. 0. 0. 0. 0. 0.]\n",
      " [0. 0. 0. 0. 0. 0. 0. 0.]\n",
      " [0. 0. 0. 0. 0. 0. 0. 0.]\n",
      " [0. 0. 0. 0. 0. 0. 0. 0.]\n",
      " [0. 0. 0. 0. 0. 0. 0. 0.]]\n",
      "0.0\n",
      "[1, 2, 3, 4, 5, 6, 7, 8]\n"
     ]
    },
    {
     "data": {
      "text/plain": [
       "array([[1., 0., 1., 0., 1., 0., 1., 0.],\n",
       "       [0., 1., 0., 1., 0., 1., 0., 1.],\n",
       "       [1., 0., 1., 0., 1., 0., 1., 0.],\n",
       "       [0., 1., 0., 1., 0., 1., 0., 1.],\n",
       "       [1., 0., 1., 0., 1., 0., 1., 0.],\n",
       "       [0., 1., 0., 1., 0., 1., 0., 1.],\n",
       "       [1., 0., 1., 0., 1., 0., 1., 0.],\n",
       "       [0., 1., 0., 1., 0., 1., 0., 1.]])"
      ]
     },
     "execution_count": 115,
     "metadata": {},
     "output_type": "execute_result"
    }
   ],
   "source": [
    "A = np.zeros((8,8))\n",
    "print(A)\n",
    "print(A[0,0])\n",
    "print(list(range(1,9)))\n",
    "for i in list(range(1,9)):\n",
    "    for j in list(range(1,9)):\n",
    "        if (j+i)%2==0:\n",
    "            \n",
    "            A[i-1,j-1] = 1\n",
    "        \n",
    "A"
   ]
  },
  {
   "cell_type": "markdown",
   "metadata": {},
   "source": [
    "**불리언 배열 인덱싱:** 불리언 배열 인덱싱을 통해 배열 속 요소를 취사선택할 수 있습니다. 불리언 배열 인덱싱은 특정 조건을 만족하게 하는 요소만 선택하고자 할 때 자주 사용됩니다."
   ]
  },
  {
   "cell_type": "code",
   "execution_count": 3,
   "metadata": {
    "scrolled": false
   },
   "outputs": [
    {
     "name": "stdout",
     "output_type": "stream",
     "text": [
      "[[False False]\n",
      " [ True  True]\n",
      " [ True  True]]\n",
      "[3 4 5 6]\n",
      "[3 4 5 6]\n",
      "[[ 1  2]\n",
      " [99 99]\n",
      " [99 99]]\n"
     ]
    }
   ],
   "source": [
    "import numpy as np\n",
    "\n",
    "a = np.array([[1,2], [3, 4], [5, 6]])\n",
    "\n",
    "bool_idx = (a > 2)  # 2보다 큰 a의 요소를 찾습니다;\n",
    "                    # 이 코드는 a와 shape가 같고 불리언 자료형을 요소로 하는 numpy 배열을 반환합니다,\n",
    "                    # bool_idx의 각 요소는 동일한 위치에 있는 a의\n",
    "                    # 요소가 2보다 큰지를 말해줍니다.\n",
    "\n",
    "print (bool_idx)      # 출력 \"[[False False]\n",
    "                    #       [ True  True]\n",
    "                    #       [ True  True]]\"\n",
    "\n",
    "# 불리언 배열 인덱싱을 통해 bool_idx에서\n",
    "# 참 값을 가지는 요소로 구성되는\n",
    "# rank 1인 배열을 구성할 수 있습니다.\n",
    "print (a[bool_idx])  # 출력 \"[3 4 5 6]\"\n",
    "\n",
    "# 위에서 한 모든것을 한 문장으로 할 수 있습니다:\n",
    "print (a[a > 2])     # 출력 \"[3 4 5 6]\"\n",
    "\n",
    "# 불리언 배열 인덱싱을 통해 요소를 수정하는 것도 가능합니다\n",
    "a[a > 2] = 99\n",
    "print (a)"
   ]
  },
  {
   "cell_type": "markdown",
   "metadata": {},
   "source": [
    "**실습문제**: 1부터 10까지의 정수로 구성된 1차원 배열을 생성한 뒤 2과 3의 배수를 음수로 만드시오."
   ]
  },
  {
   "cell_type": "code",
   "execution_count": 37,
   "metadata": {
    "scrolled": true
   },
   "outputs": [
    {
     "name": "stdout",
     "output_type": "stream",
     "text": [
      "[False  True  True  True False  True False  True  True  True]\n",
      "[ 2  3  4  6  8  9 10]\n"
     ]
    },
    {
     "data": {
      "text/plain": [
       "array([  1,  -2,  -3,  -4,   5,  -6,   7,  -8,  -9, -10])"
      ]
     },
     "execution_count": 37,
     "metadata": {},
     "output_type": "execute_result"
    }
   ],
   "source": [
    "A = np.arange(1,11)\n",
    "print((A%2==0)|(A%3==0)) #몇번째\n",
    "print(A[(A%2==0)|(A%3==0)]) # 해당 요소 출력\n",
    "A[(A%2==0)|(A%3==0)]*= -1\n",
    "A"
   ]
  },
  {
   "cell_type": "markdown",
   "metadata": {},
   "source": [
    "## 배열의 형태 변경"
   ]
  },
  {
   "cell_type": "code",
   "execution_count": 9,
   "metadata": {
    "scrolled": false
   },
   "outputs": [
    {
     "name": "stdout",
     "output_type": "stream",
     "text": [
      "[0 1 2 3 4 5 6 7 8 9]\n"
     ]
    }
   ],
   "source": [
    "a = np.arange(10)\n",
    "print(a)"
   ]
  },
  {
   "cell_type": "markdown",
   "metadata": {},
   "source": [
    "위의 배열을 2*5의 행렬로 변경하려면 np.reshape() 함수를 사용하여 다음과 같이 입력합니다."
   ]
  },
  {
   "cell_type": "code",
   "execution_count": 10,
   "metadata": {
    "scrolled": true
   },
   "outputs": [
    {
     "data": {
      "text/plain": [
       "array([[0, 1, 2, 3, 4],\n",
       "       [5, 6, 7, 8, 9]])"
      ]
     },
     "execution_count": 10,
     "metadata": {},
     "output_type": "execute_result"
    }
   ],
   "source": [
    "a.reshape(2, 5)      # 2*5의 행렬로 변환"
   ]
  },
  {
   "cell_type": "code",
   "execution_count": 11,
   "metadata": {
    "scrolled": false
   },
   "outputs": [
    {
     "data": {
      "text/plain": [
       "array([[0, 1, 2, 3, 4],\n",
       "       [5, 6, 7, 8, 9]])"
      ]
     },
     "execution_count": 11,
     "metadata": {},
     "output_type": "execute_result"
    }
   ],
   "source": [
    "a.reshape(2, -1)      # 행렬의 마지막 차수를 -1로 하면 시스템에서 알아서 5로 계산함"
   ]
  },
  {
   "cell_type": "markdown",
   "metadata": {},
   "source": [
    "np.reshape() 함수를 사용하여 행렬을 벡터로도 변환할 수 있다. "
   ]
  },
  {
   "cell_type": "code",
   "execution_count": 16,
   "metadata": {},
   "outputs": [
    {
     "data": {
      "text/plain": [
       "array([1, 2, 3, 4, 5, 6])"
      ]
     },
     "execution_count": 16,
     "metadata": {},
     "output_type": "execute_result"
    }
   ],
   "source": [
    "a = np.array([[1,2,3], [4,5,6]])\n",
    "np.reshape(a, 6)    # 행렬을 벡터로 변환도 가능"
   ]
  },
  {
   "cell_type": "code",
   "execution_count": 19,
   "metadata": {},
   "outputs": [
    {
     "data": {
      "text/plain": [
       "array([1, 2, 3, 4, 5, 6])"
      ]
     },
     "execution_count": 19,
     "metadata": {},
     "output_type": "execute_result"
    }
   ],
   "source": [
    "np.reshape(a, -1)   # 벡터의 원소의 개수를 -1로 하면 시스템에서 알아서 6으로 계산함"
   ]
  },
  {
   "cell_type": "code",
   "execution_count": null,
   "metadata": {},
   "outputs": [],
   "source": []
  }
 ],
 "metadata": {
  "kernelspec": {
   "display_name": "Python 3",
   "language": "python",
   "name": "python3"
  },
  "language_info": {
   "codemirror_mode": {
    "name": "ipython",
    "version": 3
   },
   "file_extension": ".py",
   "mimetype": "text/x-python",
   "name": "python",
   "nbconvert_exporter": "python",
   "pygments_lexer": "ipython3",
   "version": "3.7.3"
  }
 },
 "nbformat": 4,
 "nbformat_minor": 2
}
